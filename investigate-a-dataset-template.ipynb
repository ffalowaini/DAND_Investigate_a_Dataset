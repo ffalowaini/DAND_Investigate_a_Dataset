{
 "cells": [
  {
   "cell_type": "markdown",
   "metadata": {},
   "source": [
    "\n",
    "\n",
    "# Project #2: Gapminder World Data Analysis for four indicator \n",
    "\n",
    "## Table of Contents\n",
    "<ul>\n",
    "<li><a href=\"#intro\">Introduction</a></li>\n",
    "<li><a href=\"#wrangling\">Data Wrangling</a></li>\n",
    "<li><a href=\"#eda\">Exploratory Data Analysis</a></li>\n",
    "<li><a href=\"#conclusions\">Conclusions</a></li>\n",
    "</ul>"
   ]
  },
  {
   "cell_type": "markdown",
   "metadata": {},
   "source": [
    "<a id='intro'></a>\n",
    "## Introduction\n",
    "\n",
    "> Gapminder has collected a lot of information about how people live their lives in dierent countries, tracked across the years, and on a number of dierent indicators. For this project, I woluld select three indicators to investigate.\n",
    ">\n",
    "> the three indicators are: \n",
    "    > - co2: Carbone dioxide emissions from the burning of fossil fuels (metric tonnes of CO2 per person).\n",
    "    > - income: Gross domestic product per person adjusted for differences in purchasing power\n",
    "    > - murder: Mortailty due to interpersonal violence, per 100000 standard population, age adjusted. This rate is calculated as if all countries had the same age composition of the population.\n",
    "    \n",
    "> The two question that a would like to investigate is how does the co2 change in egypt compare to global and what is the relation between the number of murder and the income."
   ]
  },
  {
   "cell_type": "code",
   "execution_count": 440,
   "metadata": {},
   "outputs": [],
   "source": [
    "# Use this cell to set up import statements for all of the packages that you\n",
    "#   plan to use.\n",
    "import pandas as pd\n",
    "import numpy as np\n",
    "import matplotlib.pyplot as plt\n",
    "import seaborn as sns\n",
    "%matplotlib inline\n",
    "\n",
    "# Remember to include a 'magic word' so that your visualizations are plotted\n",
    "#   inline with the notebook. See this page for more:\n",
    "#   http://ipython.readthedocs.io/en/stable/interactive/magics.html\n"
   ]
  },
  {
   "cell_type": "markdown",
   "metadata": {},
   "source": [
    "<a id='wrangling'></a>\n",
    "## Data Wrangling\n",
    "\n",
    "> **Tip**: In this section of the report, you will load in the data, check for cleanliness, and then trim and clean your dataset for analysis. Make sure that you document your steps carefully and justify your cleaning decisions.\n",
    "\n",
    "### General Properties"
   ]
  },
  {
   "cell_type": "code",
   "execution_count": 441,
   "metadata": {},
   "outputs": [
    {
     "name": "stdout",
     "output_type": "stream",
     "text": [
      "This is the orignal data for co2: \n",
      "\n",
      "\n",
      "         country  1800  1801  1802  1803  1804  1805  1806  1807  1808  ...  \\\n",
      "0    Afghanistan   NaN   NaN   NaN   NaN   NaN   NaN   NaN   NaN   NaN  ...   \n",
      "1        Albania   NaN   NaN   NaN   NaN   NaN   NaN   NaN   NaN   NaN  ...   \n",
      "2        Algeria   NaN   NaN   NaN   NaN   NaN   NaN   NaN   NaN   NaN  ...   \n",
      "3        Andorra   NaN   NaN   NaN   NaN   NaN   NaN   NaN   NaN   NaN  ...   \n",
      "4         Angola   NaN   NaN   NaN   NaN   NaN   NaN   NaN   NaN   NaN  ...   \n",
      "..           ...   ...   ...   ...   ...   ...   ...   ...   ...   ...  ...   \n",
      "187    Venezuela   NaN   NaN   NaN   NaN   NaN   NaN   NaN   NaN   NaN  ...   \n",
      "188      Vietnam   NaN   NaN   NaN   NaN   NaN   NaN   NaN   NaN   NaN  ...   \n",
      "189        Yemen   NaN   NaN   NaN   NaN   NaN   NaN   NaN   NaN   NaN  ...   \n",
      "190       Zambia   NaN   NaN   NaN   NaN   NaN   NaN   NaN   NaN   NaN  ...   \n",
      "191     Zimbabwe   NaN   NaN   NaN   NaN   NaN   NaN   NaN   NaN   NaN  ...   \n",
      "\n",
      "       2005    2006    2007   2008   2009   2010   2011   2012   2013   2014  \n",
      "0    0.0517  0.0624  0.0839  0.152  0.238  0.290  0.406  0.345  0.310  0.294  \n",
      "1    1.3800  1.2700  1.2900  1.460  1.470  1.560  1.790  1.680  1.740  1.970  \n",
      "2    3.2400  3.0000  3.2000  3.170  3.440  3.310  3.310  3.480  3.530  3.740  \n",
      "3    7.3000  6.7500  6.5200  6.430  6.120  6.120  5.870  5.920  5.900  5.830  \n",
      "4    0.9860  1.1100  1.2000  1.190  1.230  1.240  1.250  1.330  1.250  1.290  \n",
      "..      ...     ...     ...    ...    ...    ...    ...    ...    ...    ...  \n",
      "187  6.2500  6.3100  5.9000  6.480  6.410  6.650  6.120  6.770  6.180  6.170  \n",
      "188  1.1700  1.2100  1.2300  1.370  1.480  1.620  1.710  1.580  1.620  1.820  \n",
      "189  0.9970  1.0300  0.9850  1.020  1.090  1.010  0.826  0.763  1.010  0.879  \n",
      "190  0.1930  0.1880  0.1540  0.169  0.190  0.198  0.209  0.254  0.265  0.292  \n",
      "191  0.8920  0.8590  0.8070  0.628  0.447  0.613  0.742  0.594  0.875  0.885  \n",
      "\n",
      "[192 rows x 216 columns]\n"
     ]
    },
    {
     "data": {
      "text/html": [
       "<div>\n",
       "<style scoped>\n",
       "    .dataframe tbody tr th:only-of-type {\n",
       "        vertical-align: middle;\n",
       "    }\n",
       "\n",
       "    .dataframe tbody tr th {\n",
       "        vertical-align: top;\n",
       "    }\n",
       "\n",
       "    .dataframe thead th {\n",
       "        text-align: right;\n",
       "    }\n",
       "</style>\n",
       "<table border=\"1\" class=\"dataframe\">\n",
       "  <thead>\n",
       "    <tr style=\"text-align: right;\">\n",
       "      <th></th>\n",
       "      <th>country</th>\n",
       "      <th>year</th>\n",
       "      <th>co2</th>\n",
       "    </tr>\n",
       "  </thead>\n",
       "  <tbody>\n",
       "    <tr>\n",
       "      <th>0</th>\n",
       "      <td>Afghanistan</td>\n",
       "      <td>1970</td>\n",
       "      <td>0.150</td>\n",
       "    </tr>\n",
       "    <tr>\n",
       "      <th>1</th>\n",
       "      <td>Afghanistan</td>\n",
       "      <td>1971</td>\n",
       "      <td>0.165</td>\n",
       "    </tr>\n",
       "    <tr>\n",
       "      <th>2</th>\n",
       "      <td>Afghanistan</td>\n",
       "      <td>1972</td>\n",
       "      <td>0.130</td>\n",
       "    </tr>\n",
       "    <tr>\n",
       "      <th>3</th>\n",
       "      <td>Afghanistan</td>\n",
       "      <td>1973</td>\n",
       "      <td>0.135</td>\n",
       "    </tr>\n",
       "    <tr>\n",
       "      <th>4</th>\n",
       "      <td>Afghanistan</td>\n",
       "      <td>1974</td>\n",
       "      <td>0.154</td>\n",
       "    </tr>\n",
       "    <tr>\n",
       "      <th>...</th>\n",
       "      <td>...</td>\n",
       "      <td>...</td>\n",
       "      <td>...</td>\n",
       "    </tr>\n",
       "    <tr>\n",
       "      <th>8635</th>\n",
       "      <td>Zimbabwe</td>\n",
       "      <td>2010</td>\n",
       "      <td>0.613</td>\n",
       "    </tr>\n",
       "    <tr>\n",
       "      <th>8636</th>\n",
       "      <td>Zimbabwe</td>\n",
       "      <td>2011</td>\n",
       "      <td>0.742</td>\n",
       "    </tr>\n",
       "    <tr>\n",
       "      <th>8637</th>\n",
       "      <td>Zimbabwe</td>\n",
       "      <td>2012</td>\n",
       "      <td>0.594</td>\n",
       "    </tr>\n",
       "    <tr>\n",
       "      <th>8638</th>\n",
       "      <td>Zimbabwe</td>\n",
       "      <td>2013</td>\n",
       "      <td>0.875</td>\n",
       "    </tr>\n",
       "    <tr>\n",
       "      <th>8639</th>\n",
       "      <td>Zimbabwe</td>\n",
       "      <td>2014</td>\n",
       "      <td>0.885</td>\n",
       "    </tr>\n",
       "  </tbody>\n",
       "</table>\n",
       "<p>8640 rows × 3 columns</p>\n",
       "</div>"
      ],
      "text/plain": [
       "          country  year    co2\n",
       "0     Afghanistan  1970  0.150\n",
       "1     Afghanistan  1971  0.165\n",
       "2     Afghanistan  1972  0.130\n",
       "3     Afghanistan  1973  0.135\n",
       "4     Afghanistan  1974  0.154\n",
       "...           ...   ...    ...\n",
       "8635     Zimbabwe  2010  0.613\n",
       "8636     Zimbabwe  2011  0.742\n",
       "8637     Zimbabwe  2012  0.594\n",
       "8638     Zimbabwe  2013  0.875\n",
       "8639     Zimbabwe  2014  0.885\n",
       "\n",
       "[8640 rows x 3 columns]"
      ]
     },
     "execution_count": 441,
     "metadata": {},
     "output_type": "execute_result"
    }
   ],
   "source": [
    "# Load your data and print out a few lines. Perform operations to inspect data\n",
    "#   types and look for instances of missing or possibly errant data.\n",
    "df_co2 = pd.read_csv('co2_emissions_tonnes_per_person.csv')\n",
    "print('This is the orignal data for co2: \\n\\n')\n",
    "print(df_co2)\n",
    "\n",
    "###############################################################################################\n",
    "#  chocing comun years between all the data sets that I have, which will be from 1960 to 2014 #\n",
    "###############################################################################################\n",
    "\n",
    "df_co2 = df_co2.iloc[:, np.r_[0, 171:216]]\n",
    "\n",
    "#########################################\n",
    "#  moving the years from column to rows #\n",
    "#########################################\n",
    "\n",
    "df_co2 = df_co2.melt(id_vars=[\"country\"], var_name=\"year\", value_name=\"co2\")\n",
    "\n",
    "#########################################\n",
    "#       resort the data by country      #\n",
    "#########################################\n",
    "\n",
    "df_co2 = df_co2.sort_values(['country', 'year'], ignore_index= True)\n",
    "df_co2"
   ]
  },
  {
   "cell_type": "code",
   "execution_count": 442,
   "metadata": {
    "scrolled": false
   },
   "outputs": [
    {
     "name": "stdout",
     "output_type": "stream",
     "text": [
      "This is the orignal data fo income: \n",
      "\n",
      "\n",
      "         country  1800  1801  1802  1803  1804  1805  1806  1807  1808  ...  \\\n",
      "0    Afghanistan   603   603   603   603   603   603   603   603   603  ...   \n",
      "1        Albania   667   667   667   667   667   668   668   668   668  ...   \n",
      "2        Algeria   715   716   717   718   719   720   721   722   723  ...   \n",
      "3        Andorra  1200  1200  1200  1200  1210  1210  1210  1210  1220  ...   \n",
      "4         Angola   618   620   623   626   628   631   634   637   640  ...   \n",
      "..           ...   ...   ...   ...   ...   ...   ...   ...   ...   ...  ...   \n",
      "188    Venezuela  1210  1200  1200  1190  1190  1180  1170  1170  1160  ...   \n",
      "189      Vietnam   778   778   778   778   778   778   778   778   778  ...   \n",
      "190        Yemen   877   879   882   884   887   889   892   894   897  ...   \n",
      "191       Zambia   663   665   667   668   670   671   673   675   676  ...   \n",
      "192     Zimbabwe   869   870   871   872   873   874   875   876   877  ...   \n",
      "\n",
      "      2031   2032   2033   2034   2035   2036   2037   2038   2039   2040  \n",
      "0     2550   2600   2660   2710   2770   2820   2880   2940   3000   3060  \n",
      "1    19400  19800  20200  20600  21000  21500  21900  22300  22800  23300  \n",
      "2    14300  14600  14900  15200  15500  15800  16100  16500  16800  17100  \n",
      "3    73600  75100  76700  78300  79900  81500  83100  84800  86500  88300  \n",
      "4     6110   6230   6350   6480   6610   6750   6880   7020   7170   7310  \n",
      "..     ...    ...    ...    ...    ...    ...    ...    ...    ...    ...  \n",
      "188   8270   8420   8580   8760   8930   9110   9300   9490   9680   9880  \n",
      "189  11900  12200  12500  12700  13000  13300  13500  13800  14100  14400  \n",
      "190   3230   3290   3360   3430   3500   3570   3640   3720   3790   3870  \n",
      "191   3500   3560   3630   3700   3780   3860   3930   4010   4100   4180  \n",
      "192   2630   2680   2730   2780   2840   2900   2960   3020   3080   3140  \n",
      "\n",
      "[193 rows x 242 columns]\n"
     ]
    },
    {
     "data": {
      "text/html": [
       "<div>\n",
       "<style scoped>\n",
       "    .dataframe tbody tr th:only-of-type {\n",
       "        vertical-align: middle;\n",
       "    }\n",
       "\n",
       "    .dataframe tbody tr th {\n",
       "        vertical-align: top;\n",
       "    }\n",
       "\n",
       "    .dataframe thead th {\n",
       "        text-align: right;\n",
       "    }\n",
       "</style>\n",
       "<table border=\"1\" class=\"dataframe\">\n",
       "  <thead>\n",
       "    <tr style=\"text-align: right;\">\n",
       "      <th></th>\n",
       "      <th>country</th>\n",
       "      <th>year</th>\n",
       "      <th>income</th>\n",
       "    </tr>\n",
       "  </thead>\n",
       "  <tbody>\n",
       "    <tr>\n",
       "      <th>0</th>\n",
       "      <td>Afghanistan</td>\n",
       "      <td>1970</td>\n",
       "      <td>2570</td>\n",
       "    </tr>\n",
       "    <tr>\n",
       "      <th>1</th>\n",
       "      <td>Afghanistan</td>\n",
       "      <td>1971</td>\n",
       "      <td>2500</td>\n",
       "    </tr>\n",
       "    <tr>\n",
       "      <th>2</th>\n",
       "      <td>Afghanistan</td>\n",
       "      <td>1972</td>\n",
       "      <td>2030</td>\n",
       "    </tr>\n",
       "    <tr>\n",
       "      <th>3</th>\n",
       "      <td>Afghanistan</td>\n",
       "      <td>1973</td>\n",
       "      <td>2030</td>\n",
       "    </tr>\n",
       "    <tr>\n",
       "      <th>4</th>\n",
       "      <td>Afghanistan</td>\n",
       "      <td>1974</td>\n",
       "      <td>2080</td>\n",
       "    </tr>\n",
       "    <tr>\n",
       "      <th>...</th>\n",
       "      <td>...</td>\n",
       "      <td>...</td>\n",
       "      <td>...</td>\n",
       "    </tr>\n",
       "    <tr>\n",
       "      <th>8680</th>\n",
       "      <td>Zimbabwe</td>\n",
       "      <td>2010</td>\n",
       "      <td>1930</td>\n",
       "    </tr>\n",
       "    <tr>\n",
       "      <th>8681</th>\n",
       "      <td>Zimbabwe</td>\n",
       "      <td>2011</td>\n",
       "      <td>2170</td>\n",
       "    </tr>\n",
       "    <tr>\n",
       "      <th>8682</th>\n",
       "      <td>Zimbabwe</td>\n",
       "      <td>2012</td>\n",
       "      <td>2490</td>\n",
       "    </tr>\n",
       "    <tr>\n",
       "      <th>8683</th>\n",
       "      <td>Zimbabwe</td>\n",
       "      <td>2013</td>\n",
       "      <td>2490</td>\n",
       "    </tr>\n",
       "    <tr>\n",
       "      <th>8684</th>\n",
       "      <td>Zimbabwe</td>\n",
       "      <td>2014</td>\n",
       "      <td>2510</td>\n",
       "    </tr>\n",
       "  </tbody>\n",
       "</table>\n",
       "<p>8685 rows × 3 columns</p>\n",
       "</div>"
      ],
      "text/plain": [
       "          country  year  income\n",
       "0     Afghanistan  1970    2570\n",
       "1     Afghanistan  1971    2500\n",
       "2     Afghanistan  1972    2030\n",
       "3     Afghanistan  1973    2030\n",
       "4     Afghanistan  1974    2080\n",
       "...           ...   ...     ...\n",
       "8680     Zimbabwe  2010    1930\n",
       "8681     Zimbabwe  2011    2170\n",
       "8682     Zimbabwe  2012    2490\n",
       "8683     Zimbabwe  2013    2490\n",
       "8684     Zimbabwe  2014    2510\n",
       "\n",
       "[8685 rows x 3 columns]"
      ]
     },
     "execution_count": 442,
     "metadata": {},
     "output_type": "execute_result"
    }
   ],
   "source": [
    "df_in = pd.read_csv('income_per_person_gdppercapita_ppp_inflation_adjusted.csv')\n",
    "print('This is the orignal data fo income: \\n\\n')\n",
    "print(df_in.head(200))\n",
    "\n",
    "###############################################################################################\n",
    "#  chocing comun years between all the data sets that I have, which will be from 1960 to 2014 #\n",
    "###############################################################################################\n",
    "\n",
    "df_in = df_in.iloc[:, np.r_[0, 171:216]]\n",
    "\n",
    "#########################################\n",
    "#  moving the years from column to rows #\n",
    "#########################################\n",
    "\n",
    "df_in = df_in.melt(id_vars=[\"country\"], var_name=\"year\", value_name=\"income\")\n",
    "\n",
    "#########################################\n",
    "#       resort the data by country      #\n",
    "#########################################\n",
    "\n",
    "df_in = df_in.sort_values(['country', 'year'], ignore_index= True)\n",
    "df_in"
   ]
  },
  {
   "cell_type": "code",
   "execution_count": 443,
   "metadata": {
    "scrolled": true
   },
   "outputs": [
    {
     "name": "stdout",
     "output_type": "stream",
     "text": [
      "This is the orignal data fo murder: \n",
      "\n",
      "\n",
      "               country  1950  1951  1952  1953  1954  1955  1956  1957  1958  \\\n",
      "0              Albania   NaN   NaN   NaN   NaN   NaN   NaN   NaN   NaN   NaN   \n",
      "1  Antigua and Barbuda   NaN   NaN   NaN   NaN   NaN   NaN   NaN   NaN   NaN   \n",
      "2            Argentina   NaN   NaN   NaN   NaN   NaN   NaN   NaN   NaN   NaN   \n",
      "3              Armenia   NaN   NaN   NaN   NaN   NaN   NaN   NaN   NaN   NaN   \n",
      "4            Australia   1.0  1.33  1.46  1.25   1.3  1.39   1.3  1.34  1.54   \n",
      "\n",
      "   ...   2007  2008  2009  2010  2011  2012  2013   2014  2015  2016  \n",
      "0  ...  3.070  2.96   NaN  2.30   NaN   NaN   NaN    NaN   NaN   NaN  \n",
      "1  ...    NaN   NaN   NaN   NaN   NaN   NaN   NaN    NaN   NaN   NaN  \n",
      "2  ...    NaN   NaN   NaN   NaN   NaN   NaN   NaN    NaN   NaN   NaN  \n",
      "3  ...    NaN  1.69   NaN   NaN   NaN  1.51  1.10  0.964  1.12  1.01  \n",
      "4  ...  0.978  1.09  1.17  1.01  1.05  1.23  1.06  1.020  1.11   NaN  \n",
      "\n",
      "[5 rows x 68 columns]\n"
     ]
    },
    {
     "data": {
      "text/html": [
       "<div>\n",
       "<style scoped>\n",
       "    .dataframe tbody tr th:only-of-type {\n",
       "        vertical-align: middle;\n",
       "    }\n",
       "\n",
       "    .dataframe tbody tr th {\n",
       "        vertical-align: top;\n",
       "    }\n",
       "\n",
       "    .dataframe thead th {\n",
       "        text-align: right;\n",
       "    }\n",
       "</style>\n",
       "<table border=\"1\" class=\"dataframe\">\n",
       "  <thead>\n",
       "    <tr style=\"text-align: right;\">\n",
       "      <th></th>\n",
       "      <th>country</th>\n",
       "      <th>year</th>\n",
       "      <th>murder</th>\n",
       "    </tr>\n",
       "  </thead>\n",
       "  <tbody>\n",
       "    <tr>\n",
       "      <th>0</th>\n",
       "      <td>Albania</td>\n",
       "      <td>1970</td>\n",
       "      <td>NaN</td>\n",
       "    </tr>\n",
       "    <tr>\n",
       "      <th>1</th>\n",
       "      <td>Albania</td>\n",
       "      <td>1971</td>\n",
       "      <td>NaN</td>\n",
       "    </tr>\n",
       "    <tr>\n",
       "      <th>2</th>\n",
       "      <td>Albania</td>\n",
       "      <td>1972</td>\n",
       "      <td>NaN</td>\n",
       "    </tr>\n",
       "    <tr>\n",
       "      <th>3</th>\n",
       "      <td>Albania</td>\n",
       "      <td>1973</td>\n",
       "      <td>NaN</td>\n",
       "    </tr>\n",
       "    <tr>\n",
       "      <th>4</th>\n",
       "      <td>Albania</td>\n",
       "      <td>1974</td>\n",
       "      <td>NaN</td>\n",
       "    </tr>\n",
       "    <tr>\n",
       "      <th>...</th>\n",
       "      <td>...</td>\n",
       "      <td>...</td>\n",
       "      <td>...</td>\n",
       "    </tr>\n",
       "    <tr>\n",
       "      <th>4630</th>\n",
       "      <td>Venezuela</td>\n",
       "      <td>2010</td>\n",
       "      <td>NaN</td>\n",
       "    </tr>\n",
       "    <tr>\n",
       "      <th>4631</th>\n",
       "      <td>Venezuela</td>\n",
       "      <td>2011</td>\n",
       "      <td>NaN</td>\n",
       "    </tr>\n",
       "    <tr>\n",
       "      <th>4632</th>\n",
       "      <td>Venezuela</td>\n",
       "      <td>2012</td>\n",
       "      <td>NaN</td>\n",
       "    </tr>\n",
       "    <tr>\n",
       "      <th>4633</th>\n",
       "      <td>Venezuela</td>\n",
       "      <td>2013</td>\n",
       "      <td>NaN</td>\n",
       "    </tr>\n",
       "    <tr>\n",
       "      <th>4634</th>\n",
       "      <td>Venezuela</td>\n",
       "      <td>2014</td>\n",
       "      <td>NaN</td>\n",
       "    </tr>\n",
       "  </tbody>\n",
       "</table>\n",
       "<p>4635 rows × 3 columns</p>\n",
       "</div>"
      ],
      "text/plain": [
       "        country  year  murder\n",
       "0       Albania  1970     NaN\n",
       "1       Albania  1971     NaN\n",
       "2       Albania  1972     NaN\n",
       "3       Albania  1973     NaN\n",
       "4       Albania  1974     NaN\n",
       "...         ...   ...     ...\n",
       "4630  Venezuela  2010     NaN\n",
       "4631  Venezuela  2011     NaN\n",
       "4632  Venezuela  2012     NaN\n",
       "4633  Venezuela  2013     NaN\n",
       "4634  Venezuela  2014     NaN\n",
       "\n",
       "[4635 rows x 3 columns]"
      ]
     },
     "execution_count": 443,
     "metadata": {},
     "output_type": "execute_result"
    }
   ],
   "source": [
    "df_m = pd.read_csv('murder_per_100000_people.csv')\n",
    "print('This is the orignal data fo murder: \\n\\n')\n",
    "print(df_m.head())\n",
    "\n",
    "###############################################################################################\n",
    "#  chocing comun years between all the data sets that I have, which will be from 1960 to 2014 #\n",
    "###############################################################################################\n",
    "\n",
    "df_m = df_m.iloc[:, np.r_[0, 21:66]]\n",
    "\n",
    "#########################################\n",
    "#  moving the years from column to rows #\n",
    "#########################################\n",
    "\n",
    "df_m = df_m.melt(id_vars=[\"country\"], var_name=\"year\", value_name=\"murder\")\n",
    "\n",
    "#########################################\n",
    "#       resort the data by country      #\n",
    "#########################################\n",
    "\n",
    "df_m = df_m.sort_values(['country', 'year'], ignore_index= True)\n",
    "df_m"
   ]
  },
  {
   "cell_type": "code",
   "execution_count": 444,
   "metadata": {},
   "outputs": [
    {
     "data": {
      "text/html": [
       "<div>\n",
       "<style scoped>\n",
       "    .dataframe tbody tr th:only-of-type {\n",
       "        vertical-align: middle;\n",
       "    }\n",
       "\n",
       "    .dataframe tbody tr th {\n",
       "        vertical-align: top;\n",
       "    }\n",
       "\n",
       "    .dataframe thead th {\n",
       "        text-align: right;\n",
       "    }\n",
       "</style>\n",
       "<table border=\"1\" class=\"dataframe\">\n",
       "  <thead>\n",
       "    <tr style=\"text-align: right;\">\n",
       "      <th></th>\n",
       "      <th>country</th>\n",
       "      <th>year</th>\n",
       "      <th>co2</th>\n",
       "      <th>income</th>\n",
       "      <th>murder</th>\n",
       "    </tr>\n",
       "  </thead>\n",
       "  <tbody>\n",
       "    <tr>\n",
       "      <th>0</th>\n",
       "      <td>Albania</td>\n",
       "      <td>1970</td>\n",
       "      <td>1.74</td>\n",
       "      <td>3570</td>\n",
       "      <td>NaN</td>\n",
       "    </tr>\n",
       "    <tr>\n",
       "      <th>1</th>\n",
       "      <td>Albania</td>\n",
       "      <td>1971</td>\n",
       "      <td>1.98</td>\n",
       "      <td>3710</td>\n",
       "      <td>NaN</td>\n",
       "    </tr>\n",
       "    <tr>\n",
       "      <th>2</th>\n",
       "      <td>Albania</td>\n",
       "      <td>1972</td>\n",
       "      <td>2.50</td>\n",
       "      <td>3860</td>\n",
       "      <td>NaN</td>\n",
       "    </tr>\n",
       "    <tr>\n",
       "      <th>3</th>\n",
       "      <td>Albania</td>\n",
       "      <td>1973</td>\n",
       "      <td>2.29</td>\n",
       "      <td>4050</td>\n",
       "      <td>NaN</td>\n",
       "    </tr>\n",
       "    <tr>\n",
       "      <th>4</th>\n",
       "      <td>Albania</td>\n",
       "      <td>1974</td>\n",
       "      <td>1.84</td>\n",
       "      <td>4070</td>\n",
       "      <td>NaN</td>\n",
       "    </tr>\n",
       "    <tr>\n",
       "      <th>...</th>\n",
       "      <td>...</td>\n",
       "      <td>...</td>\n",
       "      <td>...</td>\n",
       "      <td>...</td>\n",
       "      <td>...</td>\n",
       "    </tr>\n",
       "    <tr>\n",
       "      <th>4630</th>\n",
       "      <td>Venezuela</td>\n",
       "      <td>2010</td>\n",
       "      <td>6.65</td>\n",
       "      <td>16900</td>\n",
       "      <td>NaN</td>\n",
       "    </tr>\n",
       "    <tr>\n",
       "      <th>4631</th>\n",
       "      <td>Venezuela</td>\n",
       "      <td>2011</td>\n",
       "      <td>6.12</td>\n",
       "      <td>17300</td>\n",
       "      <td>NaN</td>\n",
       "    </tr>\n",
       "    <tr>\n",
       "      <th>4632</th>\n",
       "      <td>Venezuela</td>\n",
       "      <td>2012</td>\n",
       "      <td>6.77</td>\n",
       "      <td>18000</td>\n",
       "      <td>NaN</td>\n",
       "    </tr>\n",
       "    <tr>\n",
       "      <th>4633</th>\n",
       "      <td>Venezuela</td>\n",
       "      <td>2013</td>\n",
       "      <td>6.18</td>\n",
       "      <td>18000</td>\n",
       "      <td>NaN</td>\n",
       "    </tr>\n",
       "    <tr>\n",
       "      <th>4634</th>\n",
       "      <td>Venezuela</td>\n",
       "      <td>2014</td>\n",
       "      <td>6.17</td>\n",
       "      <td>17100</td>\n",
       "      <td>NaN</td>\n",
       "    </tr>\n",
       "  </tbody>\n",
       "</table>\n",
       "<p>4635 rows × 5 columns</p>\n",
       "</div>"
      ],
      "text/plain": [
       "        country  year   co2  income  murder\n",
       "0       Albania  1970  1.74    3570     NaN\n",
       "1       Albania  1971  1.98    3710     NaN\n",
       "2       Albania  1972  2.50    3860     NaN\n",
       "3       Albania  1973  2.29    4050     NaN\n",
       "4       Albania  1974  1.84    4070     NaN\n",
       "...         ...   ...   ...     ...     ...\n",
       "4630  Venezuela  2010  6.65   16900     NaN\n",
       "4631  Venezuela  2011  6.12   17300     NaN\n",
       "4632  Venezuela  2012  6.77   18000     NaN\n",
       "4633  Venezuela  2013  6.18   18000     NaN\n",
       "4634  Venezuela  2014  6.17   17100     NaN\n",
       "\n",
       "[4635 rows x 5 columns]"
      ]
     },
     "execution_count": 444,
     "metadata": {},
     "output_type": "execute_result"
    }
   ],
   "source": [
    "# here we combine the three dataFram\n",
    "df_com = df_co2.merge(df_in, left_on=['country', 'year'], right_on=['country', 'year'], how='inner')\n",
    "df_com = df_com.merge(df_m, left_on=['country', 'year'], right_on=['country', 'year'], how='inner')\n",
    "df_com"
   ]
  },
  {
   "cell_type": "markdown",
   "metadata": {},
   "source": [
    "# Cleaning\n",
    "\n",
    "> In next cell I would like to see what is missing in the data and what is the best way to clean it"
   ]
  },
  {
   "cell_type": "markdown",
   "metadata": {},
   "source": [
    "## First : \n",
    ">  checking the missing value"
   ]
  },
  {
   "cell_type": "code",
   "execution_count": 445,
   "metadata": {
    "scrolled": true
   },
   "outputs": [
    {
     "name": "stdout",
     "output_type": "stream",
     "text": [
      "<class 'pandas.core.frame.DataFrame'>\n",
      "Int64Index: 4635 entries, 0 to 4634\n",
      "Data columns (total 5 columns):\n",
      " #   Column   Non-Null Count  Dtype  \n",
      "---  ------   --------------  -----  \n",
      " 0   country  4635 non-null   object \n",
      " 1   year     4635 non-null   object \n",
      " 2   co2      4448 non-null   float64\n",
      " 3   income   4635 non-null   int64  \n",
      " 4   murder   2310 non-null   float64\n",
      "dtypes: float64(2), int64(1), object(2)\n",
      "memory usage: 217.3+ KB\n"
     ]
    }
   ],
   "source": [
    "df_com.info()"
   ]
  },
  {
   "cell_type": "markdown",
   "metadata": {},
   "source": [
    "> it is clear there are missing data in murder\n",
    "\n",
    ">\n",
    "\n",
    "> let see from the graph what is the better solution to fix it"
   ]
  },
  {
   "cell_type": "code",
   "execution_count": 446,
   "metadata": {},
   "outputs": [
    {
     "data": {
      "image/png": "[encoded data removed]",
      "text/plain": [
       "<Figure size 1440x1080 with 4 Axes>"
      ]
     },
     "metadata": {
      "needs_background": "light"
     },
     "output_type": "display_data"
    }
   ],
   "source": [
    "df_com.hist(figsize=(20,15));"
   ]
  },
  {
   "cell_type": "code",
   "execution_count": 447,
   "metadata": {},
   "outputs": [
    {
     "data": {
      "image/png": "[encoded data removed]",
      "text/plain": [
       "<Figure size 1440x1080 with 4 Axes>"
      ]
     },
     "metadata": {
      "needs_background": "light"
     },
     "output_type": "display_data"
    }
   ],
   "source": [
    "df_com[df_com.murder.isnull()].hist(figsize=(20,15));"
   ]
  },
  {
   "cell_type": "markdown",
   "metadata": {},
   "source": [
    "> we can see from graph that if we replace it by the mean it will not affect our analysis much"
   ]
  },
  {
   "cell_type": "code",
   "execution_count": 448,
   "metadata": {},
   "outputs": [
    {
     "name": "stdout",
     "output_type": "stream",
     "text": [
      "<class 'pandas.core.frame.DataFrame'>\n",
      "Int64Index: 4635 entries, 0 to 4634\n",
      "Data columns (total 5 columns):\n",
      " #   Column   Non-Null Count  Dtype  \n",
      "---  ------   --------------  -----  \n",
      " 0   country  4635 non-null   object \n",
      " 1   year     4635 non-null   object \n",
      " 2   co2      4635 non-null   float64\n",
      " 3   income   4635 non-null   int64  \n",
      " 4   murder   4635 non-null   float64\n",
      "dtypes: float64(2), int64(1), object(2)\n",
      "memory usage: 217.3+ KB\n"
     ]
    }
   ],
   "source": [
    "# replace the nan value in murder by the mean\n",
    "df_com.fillna(df_com.mean(), inplace= True)\n",
    "df_com.info()"
   ]
  },
  {
   "cell_type": "markdown",
   "metadata": {},
   "source": [
    "## Done from missing value\n",
    "\n",
    "\n",
    "## Second\n",
    "> check if there are a duplicated row"
   ]
  },
  {
   "cell_type": "code",
   "execution_count": 449,
   "metadata": {},
   "outputs": [
    {
     "data": {
      "text/plain": [
       "0"
      ]
     },
     "execution_count": 449,
     "metadata": {},
     "output_type": "execute_result"
    }
   ],
   "source": [
    "sum(df_com.duplicated())"
   ]
  },
  {
   "cell_type": "markdown",
   "metadata": {},
   "source": [
    "> Good , there is no duplicated row\n",
    "\n",
    "## Third\n",
    "\n",
    "> check the data type of the coulmns\n"
   ]
  },
  {
   "cell_type": "code",
   "execution_count": 450,
   "metadata": {},
   "outputs": [
    {
     "name": "stdout",
     "output_type": "stream",
     "text": [
      "<class 'pandas.core.frame.DataFrame'>\n",
      "Int64Index: 4635 entries, 0 to 4634\n",
      "Data columns (total 5 columns):\n",
      " #   Column   Non-Null Count  Dtype  \n",
      "---  ------   --------------  -----  \n",
      " 0   country  4635 non-null   object \n",
      " 1   year     4635 non-null   object \n",
      " 2   co2      4635 non-null   float64\n",
      " 3   income   4635 non-null   int64  \n",
      " 4   murder   4635 non-null   float64\n",
      "dtypes: float64(2), int64(1), object(2)\n",
      "memory usage: 217.3+ KB\n"
     ]
    }
   ],
   "source": [
    "df_com.info()"
   ]
  },
  {
   "cell_type": "markdown",
   "metadata": {},
   "source": [
    "> we can see the year coulmn is of type object(str), it is better if it is int \n"
   ]
  },
  {
   "cell_type": "code",
   "execution_count": 451,
   "metadata": {},
   "outputs": [
    {
     "name": "stdout",
     "output_type": "stream",
     "text": [
      "<class 'pandas.core.frame.DataFrame'>\n",
      "Int64Index: 4635 entries, 0 to 4634\n",
      "Data columns (total 5 columns):\n",
      " #   Column   Non-Null Count  Dtype  \n",
      "---  ------   --------------  -----  \n",
      " 0   country  4635 non-null   object \n",
      " 1   year     4635 non-null   int32  \n",
      " 2   co2      4635 non-null   float64\n",
      " 3   income   4635 non-null   int64  \n",
      " 4   murder   4635 non-null   float64\n",
      "dtypes: float64(2), int32(1), int64(1), object(1)\n",
      "memory usage: 199.2+ KB\n"
     ]
    }
   ],
   "source": [
    "#convert datatype of year to int\n",
    "df_com['year'] = df_com['year'].astype(int)\n",
    "df_com.info()"
   ]
  },
  {
   "cell_type": "markdown",
   "metadata": {},
   "source": [
    "> done from convert\n",
    "\n",
    "## Done from cleaning \n",
    "--------------------------------------------------------------------"
   ]
  },
  {
   "cell_type": "markdown",
   "metadata": {},
   "source": [
    "<a id='eda'></a>\n",
    "## Exploratory Data Analysis\n",
    "\n",
    "\n",
    "\n",
    "###  Question 1: In Egypt, Dose the co2 increase or decrease? Compare it with gloabl co2."
   ]
  },
  {
   "cell_type": "code",
   "execution_count": 452,
   "metadata": {},
   "outputs": [
    {
     "data": {
      "text/plain": [
       "1.5613111111111115"
      ]
     },
     "execution_count": 452,
     "metadata": {},
     "output_type": "execute_result"
    }
   ],
   "source": [
    "\n",
    "#finding what is the mean of co2 in Egypt\n",
    "egypt_co2_mean = df_com.query(\"country == 'Egypt'\")['co2'].mean()\n",
    "egypt_co2_mean"
   ]
  },
  {
   "cell_type": "code",
   "execution_count": 453,
   "metadata": {},
   "outputs": [
    {
     "data": {
      "text/plain": [
       "7.035961780575567"
      ]
     },
     "execution_count": 453,
     "metadata": {},
     "output_type": "execute_result"
    }
   ],
   "source": [
    "#finding what is the mean of co2 in all data\n",
    "df_com['co2'].mean()"
   ]
  },
  {
   "cell_type": "markdown",
   "metadata": {},
   "source": [
    "> we can see the co2 in Egypt is much lower than globaly \n",
    ">\n",
    "> let see the co2 in 1970 & 2014 and how much it change for that years "
   ]
  },
  {
   "cell_type": "code",
   "execution_count": 454,
   "metadata": {},
   "outputs": [
    {
     "name": "stdout",
     "output_type": "stream",
     "text": [
      "The co2 in Egypt in 1970 =  0.628\n",
      "The co2 in Egypt in 2014 =  2.23\n",
      "The difftrant =  1.6019999999999999\n"
     ]
    }
   ],
   "source": [
    "print ('The co2 in Egypt in 1970 = ' , df_com.query(\"country == 'Egypt' and year == '1970'\")['co2'].values[0])\n",
    "print ('The co2 in Egypt in 2014 = ' , df_com.query(\"country == 'Egypt' and year == '2014'\")['co2'].values[0])\n",
    "\n",
    "print ('The difftrant = ' , df_com.query(\"country == 'Egypt' and year == '2014'\")['co2'].values[0] - df_com.query(\"country == 'Egypt' and year == '1970'\")['co2'].values[0])"
   ]
  },
  {
   "cell_type": "markdown",
   "metadata": {},
   "source": [
    "> in Egypt it increase by 1.6 \n",
    "\n",
    "> Now let Visualize it how it changes via the year and compare it with globly"
   ]
  },
  {
   "cell_type": "code",
   "execution_count": 455,
   "metadata": {},
   "outputs": [
    {
     "data": {
      "text/plain": [
       "Text(0.5, 0, 'Year')"
      ]
     },
     "execution_count": 455,
     "metadata": {},
     "output_type": "execute_result"
    },
    {
     "data": {
      "image/png": "[encoded data removed]",
      "text/plain": [
       "<Figure size 1080x720 with 1 Axes>"
      ]
     },
     "metadata": {
      "needs_background": "light"
     },
     "output_type": "display_data"
    }
   ],
   "source": [
    "# here we find first the data for Egypt only then draw it\n",
    "ax = df_com.query(\"country == 'Egypt'\").plot(x='year', y = 'co2',label='Egypt co2', kind='scatter',color= 'red', figsize=(15,10))\n",
    "\n",
    "# here we group hte data by year to find the gloably co2\n",
    "df_com.groupby('year',as_index=False).mean().plot(x='year', y = 'co2',label='Globaly co2',title='Co2: Globaly VS Egypt', kind='scatter',figsize=(15,10), ax= ax);\n",
    "ax.set_ylabel(\"Co2\")\n",
    "ax.set_xlabel(\"Year\")"
   ]
  },
  {
   "cell_type": "markdown",
   "metadata": {},
   "source": [
    "> we can notes that the co2 globaly is higher than in Egypt\n",
    ">\n",
    "> also globaly it remaine in same renage, but in Egypt it increase"
   ]
  },
  {
   "cell_type": "markdown",
   "metadata": {},
   "source": [
    "### Question 2: What is the relation between murder and income? comment on the result. \n",
    "\n",
    "> here we want a graph for the murder and income to what is the relation between them"
   ]
  },
  {
   "cell_type": "code",
   "execution_count": 456,
   "metadata": {},
   "outputs": [
    {
     "data": {
      "image/png": "[encoded data removed]",
      "text/plain": [
       "<Figure size 1080x720 with 1 Axes>"
      ]
     },
     "metadata": {
      "needs_background": "light"
     },
     "output_type": "display_data"
    }
   ],
   "source": [
    "#define a function to draw a line graph for murder and income\n",
    "def DrawLineGraph (df, ylabel):\n",
    "    ax = df.groupby('year', as_index= False).mean().plot(x='year', y = 'income',title= 'Murder VS Income', kind='line',figsize=(15,10))\n",
    "    df.groupby('year', as_index= False).mean().plot(x='year', y = 'murder', kind='line',figsize=(15,10), ax= ax);\n",
    "    ax.set_ylabel(ylabel)\n",
    "    ax.set_xlabel(\"Year\")\n",
    "\n",
    "#draw a grahp using the function\n",
    "DrawLineGraph(df_com , 'Number')\n",
    "\n"
   ]
  },
  {
   "cell_type": "markdown",
   "metadata": {},
   "source": [
    "> !!!! it is not clear from this graph, the murder number is much lower than income \n",
    ">\n",
    "> we need to make it in persentage to see the relation  better"
   ]
  },
  {
   "cell_type": "code",
   "execution_count": 457,
   "metadata": {},
   "outputs": [
    {
     "data": {
      "image/png": "[encoded data removed]",
      "text/plain": [
       "<Figure size 1080x720 with 1 Axes>"
      ]
     },
     "metadata": {
      "needs_background": "light"
     },
     "output_type": "display_data"
    }
   ],
   "source": [
    "#define a function to convert the column to percenteage\n",
    "\n",
    "def convertToPrecentage (column):\n",
    "    mean = df_com.groupby('year').mean()[column].mean()\n",
    "    df_year = df_com.groupby('year', as_index=False).mean()\n",
    "    df_com[column] = df_com[column]  / mean\n",
    "\n",
    "# convert the income and murder \n",
    "convertToPrecentage('income')\n",
    "convertToPrecentage('murder')\n",
    "\n",
    "# using the function defined above\n",
    "DrawLineGraph(df_com , 'Precentage (%)')\n",
    "\n"
   ]
  },
  {
   "cell_type": "markdown",
   "metadata": {},
   "source": [
    "> we can see from the graph in 1998 the income increase and the number of murder decrease"
   ]
  },
  {
   "cell_type": "markdown",
   "metadata": {},
   "source": [
    "<a id='conclusions'></a>\n",
    "## Conclusions\n",
    "\n"
   ]
  },
  {
   "cell_type": "markdown",
   "metadata": {
    "collapsed": true
   },
   "source": [
    ">  - we did the analysis for three indicators, we find it have some relation between it but we can not there are not other indicators affect it.\n",
    ">\n",
    "> - in the first question we found the co2 in Egypt is lower than the gloabl co2\n",
    ">\n",
    "> - in second question found that once the income increase the number of murder decrease\n",
    "\n",
    "### what will make our analysis better\n",
    "\n",
    "> we drop some country because we do not have a data for it, that may affect our analysis, if we it it would be better\n",
    ">\n",
    "> also, we choose only 55 year, it would be better if we did it for longer period.\n",
    ">\n",
    "> moreover, adding more indicators the see the affect on other indicators."
   ]
  },
  {
   "cell_type": "markdown",
   "metadata": {},
   "source": [
    "## References \n",
    "> - pandas documntation website."
   ]
  },
  {
   "cell_type": "code",
   "execution_count": null,
   "metadata": {},
   "outputs": [],
   "source": []
  }
 ],
 "metadata": {
  "kernelspec": {
   "display_name": "Python 3",
   "language": "python",
   "name": "python3"
  },
  "language_info": {
   "codemirror_mode": {
    "name": "ipython",
    "version": 3
   },
   "file_extension": ".py",
   "mimetype": "text/x-python",
   "name": "python",
   "nbconvert_exporter": "python",
   "pygments_lexer": "ipython3",
   "version": "3.7.7"
  }
 },
 "nbformat": 4,
 "nbformat_minor": 2
}
